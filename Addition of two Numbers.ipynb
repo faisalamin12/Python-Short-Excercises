{
 "cells": [
  {
   "cell_type": "markdown",
   "metadata": {},
   "source": [
    "**Task**: Take Input Two numbers and add Them "
   ]
  },
  {
   "cell_type": "code",
   "execution_count": null,
   "metadata": {},
   "outputs": [],
   "source": []
  },
  {
   "cell_type": "code",
   "execution_count": 5,
   "metadata": {},
   "outputs": [
    {
     "name": "stdout",
     "output_type": "stream",
     "text": [
      "Enter Fisrt Number: 24\n",
      "Enter Second Number: 12\n",
      "The result of addition is:  36\n"
     ]
    }
   ],
   "source": [
    "num1 = int(input(\"Enter Fisrt Number: \"))\n",
    "num2 = int(input(\"Enter Second Number: \"))\n",
    "result = num1 + num2\n",
    "print(\"The result of addition is: \",result)"
   ]
  },
  {
   "cell_type": "code",
   "execution_count": 32,
   "metadata": {},
   "outputs": [
    {
     "name": "stdout",
     "output_type": "stream",
     "text": [
      "Python is easy but put effort to learn Tricks\n"
     ]
    }
   ],
   "source": [
    "str1 = \"Python is easy but to learn Tricks\"\n",
    "str2 = \"put effort\"\n",
    "for i in str1:\n",
    "    if i == \"t\":\n",
    "        result = str1[0:19]+str2\n",
    "        break\n",
    "    else:\n",
    "        continue\n",
    "print(result+\" \"+str1[19:])"
   ]
  },
  {
   "cell_type": "code",
   "execution_count": null,
   "metadata": {},
   "outputs": [],
   "source": []
  },
  {
   "cell_type": "code",
   "execution_count": null,
   "metadata": {},
   "outputs": [],
   "source": []
  },
  {
   "cell_type": "code",
   "execution_count": null,
   "metadata": {},
   "outputs": [],
   "source": []
  },
  {
   "cell_type": "code",
   "execution_count": null,
   "metadata": {},
   "outputs": [],
   "source": []
  }
 ],
 "metadata": {
  "kernelspec": {
   "display_name": "Python 3",
   "language": "python",
   "name": "python3"
  },
  "language_info": {
   "codemirror_mode": {
    "name": "ipython",
    "version": 3
   },
   "file_extension": ".py",
   "mimetype": "text/x-python",
   "name": "python",
   "nbconvert_exporter": "python",
   "pygments_lexer": "ipython3",
   "version": "3.7.3"
  }
 },
 "nbformat": 4,
 "nbformat_minor": 2
}
