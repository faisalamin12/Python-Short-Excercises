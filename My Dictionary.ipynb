{
 "cells": [
  {
   "cell_type": "markdown",
   "metadata": {},
   "source": [
    "Write a program through DIctionary in which take input from user and return the meaning of that word"
   ]
  },
  {
   "cell_type": "code",
   "execution_count": 6,
   "metadata": {},
   "outputs": [
    {
     "name": "stdout",
     "output_type": "stream",
     "text": [
      "Enter a word which you want to know: Elaborate\n",
      "containing a lot of careful detail or many detailed parts\n"
     ]
    }
   ],
   "source": [
    "my_Dict= {\n",
    "    \"initiative\": \"a new plan or process to achieve something or solve a problem\",\n",
    "    \"comitement\":\"a promise or firm decision to do something\",\n",
    "    \"percieve\": \"to come to an opinion about something, or have a belief about something\",\n",
    "    \"elaborate\": \"containing a lot of careful detail or many detailed parts\",\n",
    "    \"claim\": \"to say that something is true or is a fact\",\n",
    "    \"nevertheless\": \"despite what has just been said or referred to\"\n",
    "    }\n",
    "\n",
    "search_name = input(\"Enter a word which you want to know: \")\n",
    "print(my_Dict[search_name.casefold()])  # casefold method is used to lower yhw case of string\n"
   ]
  },
  {
   "cell_type": "code",
   "execution_count": null,
   "metadata": {},
   "outputs": [],
   "source": []
  }
 ],
 "metadata": {
  "kernelspec": {
   "display_name": "Python 3",
   "language": "python",
   "name": "python3"
  },
  "language_info": {
   "codemirror_mode": {
    "name": "ipython",
    "version": 3
   },
   "file_extension": ".py",
   "mimetype": "text/x-python",
   "name": "python",
   "nbconvert_exporter": "python",
   "pygments_lexer": "ipython3",
   "version": "3.7.3"
  }
 },
 "nbformat": 4,
 "nbformat_minor": 2
}
