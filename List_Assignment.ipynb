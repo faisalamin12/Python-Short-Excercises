{
  "nbformat": 4,
  "nbformat_minor": 0,
  "metadata": {
    "colab": {
      "provenance": [],
      "authorship_tag": "ABX9TyOmicrFVNCI+/LyXG0RFWRM",
      "include_colab_link": true
    },
    "kernelspec": {
      "name": "python3",
      "display_name": "Python 3"
    },
    "language_info": {
      "name": "python"
    }
  },
  "cells": [
    {
      "cell_type": "markdown",
      "metadata": {
        "id": "view-in-github",
        "colab_type": "text"
      },
      "source": [
        "<a href=\"https://colab.research.google.com/github/faisalamin12/Python-Short-Excercises/blob/master/List_Assignment.ipynb\" target=\"_parent\"><img src=\"https://colab.research.google.com/assets/colab-badge.svg\" alt=\"Open In Colab\"/></a>"
      ]
    },
    {
      "cell_type": "markdown",
      "source": [
        "##Create a list\n",
        "\n",
        "As opposed to int, bool etc., a list is a compound data type; you can group values together:\n",
        "\n",
        "\n",
        "\n",
        "```\n",
        "a = \"is\"\n",
        "b = \"nice\"\n",
        "my_list = [\"my\", \"list\", a, b]\n",
        "```\n",
        "\n",
        "\n",
        "After measuring the height of your family, you decide to collect some information on the house you're living in. The areas of the different parts of your house are stored in separate variables for now, as shown in the script\n",
        "\n",
        "\n",
        "\n",
        "\n",
        "\n",
        "1.   Create a list, areas, that contains the area of the hallway (hall), kitchen (kit), living room (liv), bedroom (bed) and bathroom (bath), in this order. Use the predefined variables.\n",
        "2.  Print areas with the print() function.\n",
        "\n"
      ],
      "metadata": {
        "id": "WFdUl1qgrfZj"
      }
    },
    {
      "cell_type": "code",
      "source": [
        "# area variables (in square meters)\n",
        "hall = 11.25\n",
        "kit = 18.0\n",
        "liv = 20.0\n",
        "bed = 10.75\n",
        "bath = 9.50\n",
        "\n",
        "# Create list areas\n",
        "\n",
        "\n",
        "# Print areas\n"
      ],
      "metadata": {
        "id": "CVvwGGipsWZP"
      },
      "execution_count": 2,
      "outputs": []
    },
    {
      "cell_type": "markdown",
      "source": [
        "##**Create list with different types**\n",
        "\n",
        "A list can contain any Python type. Although it's not really common, a list can also contain a mix of Python types including strings, floats, booleans, etc.\n",
        "\n",
        "The printout of the previous exercise wasn't really satisfying. It's just a list of numbers representing the areas, but you can't tell which area corresponds to which part of your house.\n",
        "\n",
        "The code in the editor is the start of a solution. For some of the areas, the name of the corresponding room is already placed in front. Pay attention here! \"bathroom\" is a string, while bath is a variable that represents the float 9.50 you specified earlier\n",
        "\n",
        "\n",
        "\n",
        "\n",
        "*   Finish the code that creates the **areas** list. Build the list so that the list first contains the name of each room as a string and then its area. In other words, add the strings **\"hallway\"**, **\"kitchen\"** and **\"bedroom\"** at the appropriate locations.\n",
        "\n",
        "*   Print **areas** again; is the printout more informative this time?\n",
        "\n"
      ],
      "metadata": {
        "id": "hP8D-8OnssFC"
      }
    },
    {
      "cell_type": "code",
      "source": [
        "# area variables (in square meters)\n",
        "hall = 11.25\n",
        "kit = 18.0\n",
        "liv = 20.0\n",
        "bed = 10.75\n",
        "bath = 9.50\n",
        "\n",
        "# Adapt list areas\n",
        "areas = [hall, kit, \"living room\", liv, bed, \"bathroom\", bath]\n",
        "\n",
        "# Print areas"
      ],
      "metadata": {
        "id": "OE_pdc4ptW50"
      },
      "execution_count": 7,
      "outputs": []
    },
    {
      "cell_type": "markdown",
      "source": [
        "##**List of lists**\n",
        "\n",
        "As a data scientist, you'll often be dealing with a lot of data, and it will make sense to group some of this data.\n",
        "\n",
        "Instead of creating a flat list containing strings and floats, representing the names and areas of the rooms in your house, you can create a list of lists. The script in the editor can already give you an idea.\n",
        "\n",
        "Don't get confused here: **\"hallway\"** is a string, while **hall** is a variable that represents the float **11.25** you specified earlier.**bold text**\n",
        "\n"
      ],
      "metadata": {
        "id": "3UWAioTUtvpG"
      }
    },
    {
      "cell_type": "markdown",
      "source": [
        "## Instructions\n",
        "\n",
        "\n",
        "\n",
        "\n",
        "*   Finish the list of lists so that it also contains the bedroom and bathroom data. Make sure you enter these in order!\n",
        "\n",
        "*   Print out** house**; does this way of structuring your data make more sense?\n",
        "\n",
        "*   Print out the type of **house**. Are you still dealing with a list?\n",
        "\n",
        "\n",
        "\n",
        "\n"
      ],
      "metadata": {
        "id": "qEFI2QkouWJz"
      }
    },
    {
      "cell_type": "code",
      "source": [
        "# area variables (in square meters)\n",
        "hall = 11.25\n",
        "kit = 18.0\n",
        "liv = 20.0\n",
        "bed = 10.75\n",
        "bath = 9.50\n",
        "\n",
        "# house information as list of lists\n",
        "house = [[\"hallway\", hall],\n",
        "         [\"kitchen\", kit],\n",
        "         [\"living room\", liv]]\n",
        "\n",
        "# Print out house\n",
        "\n",
        "\n",
        "# Print out the type of house\n"
      ],
      "metadata": {
        "id": "kjxxTRgrvMMn"
      },
      "execution_count": 5,
      "outputs": []
    },
    {
      "cell_type": "markdown",
      "source": [
        "# **Subset and conquer**\n",
        "\n",
        "\n",
        "Subsetting Python lists is a piece of cake. Take the code sample below, which creates a list x and then selects \"b\" from it. Remember that this is the second element, so it has index 1. You can also use negative indexing.\n",
        "\n",
        "\n",
        "\n",
        "\n",
        "```\n",
        "x = [\"a\", \"b\", \"c\", \"d\"]\n",
        "x[1]\n",
        "x[-3] # same result!\n",
        "```\n",
        "\n",
        "Remember the **areas** list from before, containing both strings and floats? Its definition is already in the script. Can you add the correct code to do some Python subsetting?\n",
        "\n"
      ],
      "metadata": {
        "id": "eWyAqwdBvcSH"
      }
    },
    {
      "cell_type": "markdown",
      "source": [
        "##Instructions\n",
        "\n",
        "\n",
        "\n",
        "*   Print out the second element from the `areas` list (`it has the value 11.25`)\n",
        "\n",
        "*   Subset and print out the last element of `areas`, being `9.50`. Using a negative index makes sense here!\n",
        "\n",
        "\n",
        "\n",
        "*   Select the number representing the area of the living room `(20.0)` and print it out.\n",
        "\n",
        "\n",
        "\n",
        "\n"
      ],
      "metadata": {
        "id": "30PQZ7RYvuas"
      }
    },
    {
      "cell_type": "code",
      "source": [
        "# Create the areas list\n",
        "areas = [\"hallway\", 11.25, \"kitchen\", 18.0, \"living room\", 20.0, \"bedroom\", 10.75, \"bathroom\", 9.50]\n",
        "\n",
        "# Print out second element from areas\n",
        "print(areas[_])\n",
        "\n",
        "# Print out last element from areas\n",
        "print(areas[__])\n",
        "\n",
        "# Print out the area of the living room\n",
        "print(areas[_])"
      ],
      "metadata": {
        "id": "x48tpuAIw-cL"
      },
      "execution_count": null,
      "outputs": []
    },
    {
      "cell_type": "markdown",
      "source": [
        "# **Subset and calculate**\n",
        "\n",
        "After you've extracted values from a list, you can use them to perform additional calculations. Take this example, where the second and fourth element of a list` x `are extracted. The strings that result are pasted together using the `+` operator:\n",
        "\n",
        "\n",
        "\n",
        "```\n",
        "x = [\"a\", \"b\", \"c\", \"d\"]\n",
        "print(x[1] + x[3])\n",
        "```\n",
        "\n"
      ],
      "metadata": {
        "id": "E7WGKi5-yHN9"
      }
    },
    {
      "cell_type": "markdown",
      "source": [
        "## Instructions\n",
        "\n",
        "\n",
        "\n",
        "*   Using a combination of list subsetting and variable assignment, create a new variable, `eat_sleep_area`, that contains the sum of the area of the kitchen and the area of the bedroom.\n",
        "\n",
        "* Print the new variable `eat_sleep_area. ` \n",
        "\n"
      ],
      "metadata": {
        "id": "EV7V56Toyniv"
      }
    },
    {
      "cell_type": "code",
      "source": [
        "# Create the areas list\n",
        "areas = [\"hallway\", 11.25, \"kitchen\", 18.0, \"living room\", 20.0, \"bedroom\", 10.75, \"bathroom\", 9.50]\n",
        "\n",
        "# Sum of kitchen and bedroom area: eat_sleep_area\n",
        "\n",
        "\n",
        "# Print the variable eat_sleep_area"
      ],
      "metadata": {
        "id": "ygSaZvU7yj5X"
      },
      "execution_count": 6,
      "outputs": []
    },
    {
      "cell_type": "markdown",
      "source": [
        "## **Slicing and dicing**\n",
        "\n",
        "\n",
        "Selecting single values from a list is just one part of the story. It's also possible to slice your list, which means selecting multiple elements from your list. Use the following syntax:\n",
        "\n",
        "\n",
        "\n",
        "```\n",
        "my_list[start:end]\n",
        "```\n",
        "\n",
        "The start index will be included, while the end index is not.\n",
        "\n",
        "The code sample below shows an example. A list with \"b\" and \"c\", corresponding to indexes 1 and 2, are selected from a list x:\n",
        "\n",
        "\n",
        "\n",
        "\n",
        "```\n",
        "x = [\"a\", \"b\", \"c\", \"d\"]\n",
        "x[1:3]\n",
        "```\n",
        "\n",
        "The elements with index 1 and 2 are included, while the element with index 3 is not\n",
        "\n",
        "\n",
        "## Instructions\n",
        "\n",
        "\n",
        "\n",
        "*   Use slicing to create a list, `downstairs`, that contains the first 6 elements of `areas`.\n",
        "\n",
        "*   Do a similar thing to create a new variable, `upstairs`, that contains the last 4 elements of `areas`\n",
        "\n",
        "\n",
        "*   Print both `downstairs` and `upstairs` using `print()` .\n",
        "\n",
        "\n",
        "\n",
        "\n",
        "\n"
      ],
      "metadata": {
        "id": "Il1BY9lt0EAy"
      }
    },
    {
      "cell_type": "code",
      "source": [
        "# Create the areas list\n",
        "areas = [\"hallway\", 11.25, \"kitchen\", 18.0, \"living room\", 20.0, \"bedroom\", 10.75, \"bathroom\", 9.50]\n",
        "\n",
        "# Use slicing to create downstairs\n",
        "\n",
        "\n",
        "# Use slicing to create upstairs\n",
        "\n",
        "\n",
        "# Print out downstairs and upstairs\n",
        "\n",
        "\n"
      ],
      "metadata": {
        "id": "hgCPGF7f1fXD"
      },
      "execution_count": null,
      "outputs": []
    },
    {
      "cell_type": "markdown",
      "source": [
        "## **Slicing and dicing (2)**\n",
        "\n",
        "first discussed the syntax where you specify both where to begin and end the slice of your list:\n",
        "\n",
        "\n",
        "\n",
        "```\n",
        "my_list[begin:end]\n",
        "```\n",
        "\n",
        "However, it's also possible not to specify these indexes. If you don't specify the begin index, Python figures out that you want to start your slice at the beginning of your list. If you don't specify the end index, the slice will go all the way to the last element of your list. To experiment with this, try the following commands in the IPython Shell:\n",
        "\n",
        "```\n",
        "# x = [\"a\", \"b\", \"c\", \"d\"]\n",
        "x[:2]\n",
        "x[2:]\n",
        "x[:]\n",
        "```\n",
        "\n",
        "## Instructions\n",
        "\n",
        "\n",
        "\n",
        "*   Create `downstairs` again, as the first `6` elements of `areas.` This time, simplify the slicing by omitting the `begin` index.\n",
        "\n",
        "* Create `upstairs` again, as the last `4` elements of `areas`. \n",
        "This time, simplify the slicing by omitting the `end` index.   \n",
        "\n",
        "\n",
        "\n",
        "\n",
        "\n"
      ],
      "metadata": {
        "id": "Xxq675Qs1zai"
      }
    },
    {
      "cell_type": "code",
      "source": [
        "# Create the areas list\n",
        "areas = [\"hallway\", 11.25, \"kitchen\", 18.0, \"living room\", 20.0, \"bedroom\", 10.75, \"bathroom\", 9.50]\n",
        "\n",
        "# Alternative slicing to create downstairs\n",
        "\n",
        "\n",
        "# Alternative slicing to create upstairs\n"
      ],
      "metadata": {
        "id": "w-A0tqr63iMB"
      },
      "execution_count": null,
      "outputs": []
    },
    {
      "cell_type": "markdown",
      "source": [
        "## **Replace list elements**\n",
        "\n",
        "Replacing list elements is pretty easy. Simply subset the list and assign new values to the subset. You can select single elements or you can change entire list slices at once.\n",
        "\n",
        "Use the IPython Shell to experiment with the commands below. Can you tell what's happening and why?\n",
        "\n",
        "```\n",
        "x = [\"a\", \"b\", \"c\", \"d\"]\n",
        "x[1] = \"r\"\n",
        "x[2:] = [\"s\", \"t\"]\n",
        "```\n",
        "\n",
        "For this and the following exercises, you'll continue working on the `areas` list that contains the names and areas of different rooms in a house.\n",
        "\n",
        "## Instructions\n",
        "\n",
        "*   Update the area of the bathroom area to be 10.50 square meters instead of 9.50.List item\n",
        "\n",
        "*   Update the area of the bathroom area to be 10.50 square meters instead of 9.50.\n",
        "\n",
        "\n",
        "\n",
        "\n",
        "\n",
        "\n",
        "\n",
        "\n",
        "\n"
      ],
      "metadata": {
        "id": "_8Y28W503sAw"
      }
    },
    {
      "cell_type": "code",
      "source": [
        "# Create the areas list\n",
        "areas = [\"hallway\", 11.25, \"kitchen\", 18.0, \"living room\", 20.0, \"bedroom\", 10.75, \"bathroom\", 9.50]\n",
        "\n",
        "# Correct the bathroom area\n",
        "\n",
        "\n",
        "# Change \"living room\" to \"chill zone\"\n",
        "\n",
        "\n"
      ],
      "metadata": {
        "id": "pZyGsvDw5L4M"
      },
      "execution_count": null,
      "outputs": []
    },
    {
      "cell_type": "markdown",
      "source": [
        "# **Extend a list**\n",
        "\n",
        "If you can change elements in a list, you sure want to be able to add elements to it, right? You can use the `+` operator:\n",
        "\n",
        "```\n",
        "x = [\"a\", \"b\", \"c\", \"d\"]\n",
        "y = x + [\"e\", \"f\"]\n",
        "```\n",
        "You just won the lottery, awesome! You decide to build a poolhouse and a garage. Can you add the information to the `areas` list?\n",
        "\n",
        "# Instructions\n",
        "\n",
        "\n",
        "\n",
        "*   Use the `+` operator to paste the list `[\"poolhouse\", 24.5]` to the end of the `areas` list. Store the resulting list as `areas_1`.\n",
        "\n",
        "*   Further extend `areas_1` by adding data on your garage. Add the string `\"garage\"` and float `15.45`. Name the resulting list `areas_2`.\n",
        "\n",
        "\n",
        "\n"
      ],
      "metadata": {
        "id": "bh5ZvM3_5T54"
      }
    },
    {
      "cell_type": "code",
      "source": [
        "# Create the areas list and make some changes\n",
        "areas = [\"hallway\", 11.25, \"kitchen\", 18.0, \"chill zone\", 20.0,\n",
        "         \"bedroom\", 10.75, \"bathroom\", 10.50]\n",
        "\n",
        "# Add poolhouse data to areas, new list is areas_1\n",
        "\n",
        "\n",
        "# Add garage data to areas_1, new list is areas_2\n"
      ],
      "metadata": {
        "id": "mgfPuTgp6m03"
      },
      "execution_count": null,
      "outputs": []
    }
  ]
}