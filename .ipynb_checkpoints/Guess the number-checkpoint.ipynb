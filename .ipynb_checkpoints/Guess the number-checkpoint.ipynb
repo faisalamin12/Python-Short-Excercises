{
 "cells": [
  {
   "cell_type": "code",
   "execution_count": 8,
   "metadata": {},
   "outputs": [
    {
     "name": "stdout",
     "output_type": "stream",
     "text": [
      "Guess the number:\n",
      "8\n",
      "Yout Guess is too big\n",
      "No of Guesses left 4\n",
      "Guess the number:\n",
      "8\n",
      "Yout Guess is too big\n",
      "No of Guesses left 3\n",
      "Guess the number:\n",
      "8\n",
      "Yout Guess is too big\n",
      "No of Guesses left 2\n",
      "Guess the number:\n",
      "9\n",
      "Yout Guess is too big\n",
      "No of Guesses left 1\n",
      "Guess the number:\n",
      "8\n",
      "Yout Guess is too big\n",
      "No of Guesses left 0\n"
     ]
    }
   ],
   "source": [
    "number = 6\n",
    "\n",
    "i= 1\n",
    "\n",
    "while i<=5:\n",
    "    np = int(input(\"Guess the number:\\n\"))\n",
    "    if np > 6:\n",
    "        print(\"Yout Guess is too big\")\n",
    "        print(\"No of Guesses left\",5-i)\n",
    "        i = i + 1\n",
    "        continue\n",
    "    elif np < 6:\n",
    "        print(\"Your Guess is too small\")\n",
    "        print(\"No of Guesses left\",5-i)\n",
    "        i = i + 1\n",
    "        continue\n",
    "    else:\n",
    "        print(\"Your Guess is right\")\n",
    "        print(\"No of Guesses you took\",i)\n",
    "        break\n",
    "        \n",
    "        \n",
    "    \n",
    "        "
   ]
  },
  {
   "cell_type": "code",
   "execution_count": null,
   "metadata": {},
   "outputs": [],
   "source": []
  }
 ],
 "metadata": {
  "kernelspec": {
   "display_name": "Python 3",
   "language": "python",
   "name": "python3"
  },
  "language_info": {
   "codemirror_mode": {
    "name": "ipython",
    "version": 3
   },
   "file_extension": ".py",
   "mimetype": "text/x-python",
   "name": "python",
   "nbconvert_exporter": "python",
   "pygments_lexer": "ipython3",
   "version": "3.7.3"
  }
 },
 "nbformat": 4,
 "nbformat_minor": 2
}
